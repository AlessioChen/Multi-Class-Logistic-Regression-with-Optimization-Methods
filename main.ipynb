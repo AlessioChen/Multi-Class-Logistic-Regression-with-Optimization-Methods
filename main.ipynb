{
 "cells": [
  {
   "cell_type": "code",
   "execution_count": 5,
   "id": "1e20a42bd77c5c1e",
   "metadata": {
    "ExecuteTime": {
     "end_time": "2024-04-21T20:09:00.031671Z",
     "start_time": "2024-04-21T20:08:59.162323Z"
    }
   },
   "outputs": [],
   "source": [
    "from sklearn import datasets, linear_model,preprocessing\n",
    "from sklearn.model_selection import train_test_split\n",
    "import matplotlib.pyplot as plt\n",
    "import numpy as np\n",
    "from file_reader import read_file\n",
    "from math import sqrt\n",
    "import random\n"
   ]
  },
  {
   "cell_type": "code",
   "execution_count": 6,
   "id": "bcc90f83a273d0f2",
   "metadata": {
    "ExecuteTime": {
     "end_time": "2024-04-21T20:09:00.051708Z",
     "start_time": "2024-04-21T20:09:00.033045Z"
    }
   },
   "outputs": [],
   "source": [
    "class MultiClassLogisticRegression:\n",
    "\n",
    "    def __init__(self, X, y, random_seed=10):\n",
    "        np.random.seed(random_seed)\n",
    "        self.random_seed = random_seed\n",
    "        self.loss = []\n",
    "        self.classes = np.unique(y)\n",
    "        self.class_labels = {c: i for i, c in enumerate(self.classes)}\n",
    "        self.weight = np.random.rand(len(self.classes), X.shape[1])\n",
    "        self.Ti = self.one_hot_encoding(y)\n",
    "        self.epsilon = 1e-16     # Small epsilon value to prevent numerical instability\n",
    " \n",
    "    def one_hot_encoding(self, y):\n",
    "        return np.eye(len(self.classes))[np.vectorize(lambda c: self.class_labels[c])(y).reshape(-1)]\n",
    "\n",
    "    def predict(self, X, weight):\n",
    "        z = np.dot(X, weight.T)\n",
    "        return self.softmax(z)\n",
    "\n",
    "    def softmax(self, z):\n",
    "        z -= np.max(z, axis=1, keepdims=True)  # Numerical stability\n",
    "        exp_z = np.exp(z)\n",
    "        return exp_z / np.sum(exp_z, axis=1, keepdims=True)\n",
    "\n",
    "    def cross_entropy_loss(self, probs, n):\n",
    "\n",
    "        clipped_probs = np.clip(probs, self.epsilon, 1 - self.epsilon)  # Clip probabilities to avoid extreme values\n",
    "        return -(np.sum(self.Ti * np.log(clipped_probs))) / n        \n",
    "    \n",
    "    def objective_f(self, probs, weight, lam, n):\n",
    "        loss = self.cross_entropy_loss(probs, n) \n",
    "        l2 = lam * np.sum(np.square(weight)) \n",
    "        return loss + l2\n",
    "\n",
    "    def cross_entropy_loss_gradient(self, X, probs, weight, lam):\n",
    "        return -(np.dot(X.T, (self.Ti - probs))).T / len(X)   + 2 * lam * weight\n",
    "    \n",
    "    def cross_entropy_hessian(self, X, lam):\n",
    "        n_samples, n_features = X.shape\n",
    "        probs = self.predict(X, self.weight)\n",
    "        n_classes = probs.shape[1]\n",
    "        H = np.zeros((n_classes, n_classes))\n",
    "\n",
    "        for n in range(n_samples):\n",
    "            p_n = probs[n]\n",
    "            x_n = X[n]\n",
    "            ppT = np.dot(p_n, p_n.reshape(-1,1))\n",
    "            xxT = np.dot(x_n, x_n.reshape(-1,1))\n",
    "            np.kron( np.diag(p_n * (1-p_n)) - ppT, xxT)          \n",
    "            \n",
    "        return H / n_samples + lam * np.eye(n_classes)\n",
    "\n",
    "    def predict_classes(self, X):\n",
    "        probs = self.predict(X, self.weight)\n",
    "        return np.vectorize(lambda c: self.classes[c] )(np.argmax(probs, axis=1)) \n",
    "    \n",
    "    def score(self, X, y):\n",
    "        return np.mean(self.predict_classes(X) == y)\n",
    "    \n",
    "    def armijo_line_search(self, X, gradient, direction, current_loss, alpha, rho, c, lam):\n",
    "\n",
    "        while alpha > 1e-8:\n",
    "            new_weight = self.weight + alpha * direction\n",
    "            new_probs = self.predict(X, new_weight)\n",
    "            new_loss = self.objective_f(new_probs, new_weight, lam, len(X))\n",
    "            armijo_condition = new_loss <= current_loss + c * alpha * np.sum(gradient * direction)\n",
    "            if armijo_condition:\n",
    "                break\n",
    "            else:\n",
    "                alpha *= rho\n",
    "                \n",
    "        return alpha\n",
    "\n",
    "    def gradient_descend(self, X, max_epoch, alpha, rho, c, lam):\n",
    "        N = len(X)\n",
    "\n",
    "        for i in range(max_epoch):\n",
    "            probs = self.predict(X, self.weight)\n",
    "            loss = self.objective_f(probs, self.weight, lam, N)\n",
    "            gradient = self.cross_entropy_loss_gradient(X, probs, self.weight, lam) \n",
    "            direction = -gradient \n",
    "            lr = self.armijo_line_search(X, gradient, direction, loss , alpha, rho, c, lam)\n",
    "            self.weight = self.weight + lr * direction\n",
    "            self.loss.append(loss)\n",
    "            \n",
    "            \n",
    "    def cauchy_point(self, G, B, trust_radius):\n",
    "        gT_b_g  = np.mean(np.sum(np.dot(G.T, np.dot(B, G))))\n",
    "        g_norm = np.linalg.norm(G)\n",
    "                \n",
    "        if gT_b_g <= 0:\n",
    "            alpha = trust_radius / g_norm\n",
    "        else:\n",
    "            alpha =  min(trust_radius / g_norm , g_norm**2 / gT_b_g )\n",
    "        \n",
    "        return - alpha * G\n",
    "        \n",
    "\n",
    "    def trust_region(self, X, trust_radius, max_trust_radius, max_epoch, eta1, eta2 , gamma1, gamma2,  lam ):\n",
    "    \n",
    "        N = len(X)\n",
    "    \n",
    "        for k in range(max_epoch):\n",
    "            probs = self.predict(X, self.weight)\n",
    "            G = self.cross_entropy_loss_gradient(X, probs, self.weight, lam) \n",
    "            H = self.cross_entropy_hessian(X, lam)\n",
    "\n",
    "            pk = self.cauchy_point(G, H, trust_radius)\n",
    "            \n",
    "            loss = self.objective_f(probs, self.weight, lam, N)\n",
    "            self.loss.append(loss)\n",
    "            \n",
    "            new_weight = self.weight + pk\n",
    "            new_probs = self.predict(X, new_weight)\n",
    "            new_loss = self.objective_f(new_probs, new_weight, lam, N)\n",
    "            \n",
    "            # Actual reduction.\n",
    "            act_red = loss - new_loss\n",
    "            # Predicted reduction.\n",
    "            \n",
    "            pred_red = - np.sum((np.dot(G.T, pk) + 0.5 * np.dot(pk.T, np.dot(H,pk)))) / N\n",
    "            if pred_red == 0.0:\n",
    "                rho = eta + 1\n",
    "            else:\n",
    "                 rho = act_red / pred_red\n",
    "                \n",
    "            # Choose the weight for the next iteration.\n",
    "            if rho >= eta1:\n",
    "                self.weight += pk\n",
    "                \n",
    "            if rho >= eta2:\n",
    "                trust_radius = random.uniform(trust_radius, max_trust_radius)\n",
    "            elif rho >= eta1 or rho < eta2:\n",
    "                trust_radius = random.uniform(gamma2 * trust_radius, trust_radius)\n",
    "            elif rho < eta1:\n",
    "                trust_radius = random.uniform(gamma1 * trust_radius, gamma2 * trust_radius)\n",
    "        \n",
    "         \n",
    "            "
   ]
  },
  {
   "cell_type": "code",
   "execution_count": 7,
   "id": "60e8ebde755ac574",
   "metadata": {
    "ExecuteTime": {
     "end_time": "2024-04-21T20:09:00.056609Z",
     "start_time": "2024-04-21T20:09:00.053103Z"
    }
   },
   "outputs": [],
   "source": [
    "def plot(loss_1, loss_2):\n",
    "    plt.xscale('log')\n",
    "    plt.yscale('log')\n",
    "    plt.plot(range(1, len(loss_1) +1 ), loss_1)\n",
    "    plt.plot(range(1, len(loss_2) +1 ), loss_2)\n",
    "    \n",
    "    plt.title(\"Development of loss during Training\")\n",
    "    plt.xlabel(\"Number of iterations\")\n",
    "    plt.ylabel(\"Loss\")\n",
    "    \n",
    "    plt.legend(['gradient descend', 'trust region']) \n",
    "    plt.show()"
   ]
  },
  {
   "cell_type": "code",
   "execution_count": 8,
   "id": "846dbf79f8c2688",
   "metadata": {
    "ExecuteTime": {
     "end_time": "2024-04-21T20:09:02.309648Z",
     "start_time": "2024-04-21T20:09:00.058570Z"
    }
   },
   "outputs": [
    {
     "data": {
      "image/png": "[encoded data removed]",
      "text/plain": [
       "<Figure size 640x480 with 1 Axes>"
      ]
     },
     "metadata": {},
     "output_type": "display_data"
    }
   ],
   "source": [
    "MAX_EPOCH = 2000\n",
    "ARMIJO_RHO = 0.8\n",
    "ARMIJO_ALPHA = 0.5\n",
    "ARMIJO_C = 0.01\n",
    "LAMBDA = 1/4\n",
    "\n",
    "X, y = datasets.load_iris(return_X_y=True)\n",
    "X_train, X_test, y_train, y_test = train_test_split(X, y, test_size=0.7, random_state=42)\n",
    "\n",
    "\n",
    "INITIAL_TRUST_RADIUS = 1.0\n",
    "MAX_TRUST_RADIUS = 100.0\n",
    "ETA1 = 0.1\n",
    "ETA2 = 0.8\n",
    "GAMMA1 =0.2\n",
    "GAMA2 = 0.8\n",
    "lr1= MultiClassLogisticRegression(X_train, y_train)\n",
    "lr1.gradient_descend(X_train, MAX_EPOCH, ARMIJO_ALPHA, ARMIJO_RHO, ARMIJO_C, LAMBDA)\n",
    "\n",
    "lr2= MultiClassLogisticRegression(X_train, y_train)\n",
    "lr2.trust_region(X_train, INITIAL_TRUST_RADIUS, MAX_TRUST_RADIUS, MAX_EPOCH,  ETA1 , ETA2, GAMMA1, GAMA2, LAMBDA)\n",
    "plot(lr1.loss, lr2.loss)\n"
   ]
  },
  {
   "cell_type": "code",
   "execution_count": 9,
   "id": "9feb4c0433a08315",
   "metadata": {
    "ExecuteTime": {
     "end_time": "2024-04-21T20:09:02.323473Z",
     "start_time": "2024-04-21T20:09:02.310447Z"
    }
   },
   "outputs": [
    {
     "name": "stdout",
     "output_type": "stream",
     "text": [
      "0.7428571428571429 0.9619047619047619\n",
      "0.6952380952380952 0.9619047619047619\n"
     ]
    }
   ],
   "source": [
    "sklearn_lg = linear_model.LogisticRegression(\"l2\", max_iter = MAX_EPOCH )\n",
    "sklearn_lg.fit(X_train, y_train)\n",
    "\n",
    "print(lr1.score(X_test, y_test), sklearn_lg.score(X_test, y_test))\n",
    "print(lr2.score(X_test, y_test), sklearn_lg.score(X_test, y_test))\n"
   ]
  },
  {
   "cell_type": "code",
   "execution_count": 10,
   "id": "5542f12e3008a2b3",
   "metadata": {
    "ExecuteTime": {
     "end_time": "2024-04-21T20:09:45.563124Z",
     "start_time": "2024-04-21T20:09:02.324437Z"
    }
   },
   "outputs": [],
   "source": [
    "MAX_EPOCH = 2000\n",
    "ARMIJO_RHO = 0.9\n",
    "ARMIJO_ALPHA = 0.5\n",
    "ARMIJO_C = 1e-4\n",
    "LAMBDA = 1/2\n",
    "\n",
    "X, y = datasets.load_digits(return_X_y=True)\n",
    "X_train, X_test, y_train, y_test = train_test_split(X, y, test_size=0.7, random_state=42)\n",
    "\n",
    "INITIAL_TRUST_RADIUS = 1.0\n",
    "MAX_TRUST_RADIUS = 100.0\n",
    "ETA1 = 0.2\n",
    "ETA2 = 0.8\n",
    "GAMMA1 =0.2\n",
    "GAMA2 = 0.8\n",
    "lr1= MultiClassLogisticRegression(X_train, y_train)\n",
    "lr1.gradient_descend(X_train, MAX_EPOCH, ARMIJO_ALPHA, ARMIJO_RHO, ARMIJO_C, LAMBDA)\n",
    "\n",
    "lr2= MultiClassLogisticRegression(X_train, y_train)\n",
    "lr2.trust_region(X_train, INITIAL_TRUST_RADIUS, MAX_TRUST_RADIUS, MAX_EPOCH,  ETA1 , ETA2, GAMMA1, GAMA2, LAMBDA)\n",
    "\n",
    "plot(lr1.loss, lr2.loss)"
   ]
  },
  {
   "cell_type": "code",
   "execution_count": null,
   "id": "9fdf26cb157da2db",
   "metadata": {
    "ExecuteTime": {
     "end_time": "2024-04-21T20:09:46.878760Z",
     "start_time": "2024-04-21T20:09:45.564464Z"
    }
   },
   "outputs": [],
   "source": [
    "sklearn_lg = linear_model.LogisticRegression(\"l2\", max_iter = 10000 )\n",
    "sklearn_lg.fit(X_train, y_train)\n",
    "\n",
    "print(lr1.score(X_test, y_test), sklearn_lg.score(X_test, y_test))\n",
    "print(lr2.score(X_test, y_test), sklearn_lg.score(X_test, y_test))\n"
   ]
  },
  {
   "cell_type": "code",
   "execution_count": null,
   "id": "58886c63dbc4687d",
   "metadata": {
    "ExecuteTime": {
     "end_time": "2024-04-21T20:09:56.739097Z",
     "start_time": "2024-04-21T20:09:46.880682Z"
    }
   },
   "outputs": [],
   "source": [
    "MAX_EPOCH = 250\n",
    "ARMIJO_RHO = 0.5\n",
    "ARMIJO_ALPHA = 1\n",
    "ARMIJO_C = 1e-4\n",
    "LAMBDA = 1/4\n",
    "X_train, y_train = read_file('datasets/dna/dna_train.txt', 180)\n",
    "X_test , y_test = read_file('datasets/dna/dna_test.txt', 180)\n",
    "\n",
    "X_train = np.array(X_train)\n",
    "y_train = np.array(y_train)\n",
    "X_test = np.array(X_test)\n",
    "y_test = np.array(y_test)\n",
    "\n",
    "\n",
    "INITIAL_TRUST_RADIUS = 1.0\n",
    "MAX_TRUST_RADIUS = 100.0\n",
    "ETA1 = 0.5\n",
    "ETA2 = 0.8\n",
    "GAMMA1 = 0.3\n",
    "GAMA2 = 0.6\n",
    "lr1= MultiClassLogisticRegression(X_train, y_train)\n",
    "lr1.gradient_descend(X_train, MAX_EPOCH, ARMIJO_ALPHA, ARMIJO_RHO, ARMIJO_C, LAMBDA)\n",
    "\n",
    "lr2= MultiClassLogisticRegression(X_train, y_train)\n",
    "lr2.trust_region(X_train, INITIAL_TRUST_RADIUS, MAX_TRUST_RADIUS, MAX_EPOCH,  ETA1 , ETA2, GAMMA1, GAMA2, LAMBDA)\n",
    "\n",
    "plot(lr1.loss, lr2.loss)"
   ]
  },
  {
   "cell_type": "code",
   "execution_count": null,
   "id": "625d0d48b19e19c1",
   "metadata": {
    "ExecuteTime": {
     "end_time": "2024-04-21T20:09:58.085798Z",
     "start_time": "2024-04-21T20:09:56.739832Z"
    }
   },
   "outputs": [],
   "source": [
    "sklearn_lg = linear_model.LogisticRegression(\"l2\", max_iter = MAX_EPOCH)\n",
    "sklearn_lg.fit(X_train, y_train)\n",
    "\n",
    "print(lr1.score(X_test, y_test), sklearn_lg.score(X_test, y_test))\n",
    "print(lr2.score(X_test, y_test), sklearn_lg.score(X_test, y_test))"
   ]
  },
  {
   "cell_type": "code",
   "execution_count": null,
   "id": "4f58a7594eed7d6d",
   "metadata": {
    "ExecuteTime": {
     "end_time": "2024-04-21T20:10:01.497917Z",
     "start_time": "2024-04-21T20:09:58.096291Z"
    }
   },
   "outputs": [],
   "source": [
    "X_train, y_train = read_file('datasets/segment/segment_train.txt', 36)\n",
    "X_test , y_test = read_file('datasets/segment/segment_test.txt', 36)\n",
    "\n",
    "X_train = np.array(X_train)\n",
    "y_train = np.array(y_train)\n",
    "X_test = np.array(X_test)\n",
    "y_test = np.array(y_test)\n",
    "\n",
    "INITIAL_TRUST_RADIUS = 1.0\n",
    "MAX_TRUST_RADIUS = 100.0\n",
    "ETA1 = 0.25\n",
    "ETA2 = 0.75\n",
    "GAMMA1 = 0.25\n",
    "GAMA2 = 0.5\n",
    "lr1= MultiClassLogisticRegression(X_train, y_train)\n",
    "lr1.gradient_descend(X_train, MAX_EPOCH, ARMIJO_ALPHA, ARMIJO_RHO, ARMIJO_C, LAMBDA)\n",
    "\n",
    "lr2= MultiClassLogisticRegression(X_train, y_train)\n",
    "lr2.trust_region(X_train, INITIAL_TRUST_RADIUS, MAX_TRUST_RADIUS, MAX_EPOCH,  ETA1 , ETA2, GAMMA1, GAMA2, LAMBDA)\n",
    "\n",
    "plot(lr1.loss, lr2.loss)"
   ]
  },
  {
   "cell_type": "code",
   "execution_count": null,
   "id": "6d39d848a523c1cd",
   "metadata": {
    "ExecuteTime": {
     "end_time": "2024-04-21T20:10:01.528661Z",
     "start_time": "2024-04-21T20:10:01.498961Z"
    }
   },
   "outputs": [],
   "source": [
    "sklearn_lg = linear_model.LogisticRegression(\"l2\", max_iter = MAX_EPOCH)\n",
    "sklearn_lg.fit(X_train, y_train)\n",
    "print(lr1.score(X_test, y_test), sklearn_lg.score(X_test, y_test))\n",
    "print(lr2.score(X_test, y_test), sklearn_lg.score(X_test, y_test))"
   ]
  }
 ],
 "metadata": {
  "kernelspec": {
   "display_name": "Python 3",
   "language": "python",
   "name": "python3"
  },
  "language_info": {
   "codemirror_mode": {
    "name": "ipython",
    "version": 3
   },
   "file_extension": ".py",
   "mimetype": "text/x-python",
   "name": "python",
   "nbconvert_exporter": "python",
   "pygments_lexer": "ipython3",
   "version": "3.11.7"
  }
 },
 "nbformat": 4,
 "nbformat_minor": 5
}
